{
 "cells": [
  {
   "cell_type": "code",
   "execution_count": 1,
   "metadata": {},
   "outputs": [
    {
     "name": "stderr",
     "output_type": "stream",
     "text": [
      "Endpoints other than open requested but private key and certificate are not set.\n",
      "Listening on localhost:4840\n"
     ]
    }
   ],
   "source": [
    "from opcua import Server\n",
    "\n",
    "server = Server()\n",
    "server.set_endpoint(\"opc.tcp://localhost:4840/freeopcua/server/\")    # 设定服务器URI\n",
    "uri = 'http://examples.freeopcua.github.io'\n",
    "idx = server.register_namespace(uri)    # 注册地址空间\n",
    "\n",
    "server.import_xml(\"log_test.xml\")    # 导入自定义的节点类型\n",
    "\n",
    "#读取xml配置实例化自定义对象\n",
    "#my_sensor_type = server.get_root_node().get_child([\n",
    "#    \"0:Types\", \"0:ObjectTypes\", \"0:BaseObjectType\", \"0:SysType\"]).nodeid\n",
    "#my_sensor = server.nodes.objects.add_object(idx, \"Sys\", my_sensor_type)\n",
    "\n",
    "server.start()\n"
   ]
  },
  {
   "cell_type": "code",
   "execution_count": null,
   "metadata": {},
   "outputs": [],
   "source": []
  },
  {
   "cell_type": "code",
   "execution_count": 2,
   "metadata": {},
   "outputs": [],
   "source": [
    "#读取测试文件\n",
    "file=open('syslog_test.txt')    \n",
    "dataMat=[]  \n",
    "for line in file.readlines():    \n",
    "    curLine=line.strip('\\n')     \n",
    "    dataMat.append(curLine) "
   ]
  },
  {
   "cell_type": "code",
   "execution_count": 3,
   "metadata": {},
   "outputs": [
    {
     "name": "stderr",
     "output_type": "stream",
     "text": [
      "Unknown message received FourByteNodeId(i=12208)\n"
     ]
    }
   ],
   "source": [
    "#实例化对象\n",
    "myobj = server.nodes.objects.add_object(idx, \"sys\")#直接实例化对象以及添加变量\n",
    "myvar = myobj.add_variable(idx, \"Single log\",dataMat[0] )"
   ]
  },
  {
   "cell_type": "code",
   "execution_count": 4,
   "metadata": {},
   "outputs": [],
   "source": [
    "#实例化对象（先不用）\n",
    "def InsData(str):\n",
    "    myobj = server.nodes.objects.add_object(idx, \"sys\")#直接实例化对象以及添加变量\n",
    "    myvar = myobj.add_variable(idx, \"Single log\", str)\n"
   ]
  },
  {
   "cell_type": "code",
   "execution_count": 6,
   "metadata": {},
   "outputs": [],
   "source": [
    "#简单更新一下\n",
    "def upData(str):\n",
    "    myvar.set_value(str)"
   ]
  },
  {
   "cell_type": "code",
   "execution_count": 7,
   "metadata": {},
   "outputs": [],
   "source": [
    "#方法1：定时器\n",
    "def fun_timer():\n",
    "    global i\n",
    "    i=i+1\n",
    "    #InsData(dataMat[i])\n",
    "    upData(dataMat[i])\n",
    "    print(dataMat[i])\n",
    "    global timer\n",
    "    timer = threading.Timer(3.5, fun_timer)#每十秒刷新一次数据\n",
    "    timer.start()"
   ]
  },
  {
   "cell_type": "code",
   "execution_count": 6,
   "metadata": {},
   "outputs": [],
   "source": [
    "#方法2：实现定时更新数据功能（循环内暂停的方法）\n",
    "from threading import Thread\n",
    "import logging\n",
    "from datetime import datetime\n",
    "import time\n",
    "class VarUpdater(Thread):\n",
    "    def __init__(self,var):\n",
    "        Thread.__init__(self)\n",
    "        self._stopev = False\n",
    "        self.var = var\n",
    "\n",
    "    def stop(self):\n",
    "        self._stopev = True\n",
    "\n",
    "    def run(self):\n",
    "        global i\n",
    "        while not self._stopev:\n",
    "            v = dataMat[i]\n",
    "            self.var.set_value(v) #更新值\n",
    "            i=i+1\n",
    "            time.sleep(3)"
   ]
  },
  {
   "cell_type": "code",
   "execution_count": 8,
   "metadata": {},
   "outputs": [
    {
     "name": "stdout",
     "output_type": "stream",
     "text": [
      "10.65.60.196 2 2020-04-03 17:34:45 superman (null) 1 1\n",
      "10.65.60.196 3 2020-04-03 17:34:35 2 0.250000 40.423332 30.068600 1 9288 0 1\n",
      "10.65.60.196 3 2020-04-03 17:34:34 1247 2.620968 45.689209 34.113781 1 14864 0 0\n",
      "10.65.60.196 3 2020-04-03 17:34:25 2 0.277218 40.423332 30.069426 1 17656 0 1\n",
      "10.65.60.196 3 2020-04-03 17:34:24 1247 3.224206 45.689209 34.119354 1 18544 0 0\n",
      "10.65.60.196 3 2020-04-03 17:34:15 2 0.300000 40.423332 30.069220 1 16792 0 1\n",
      "10.65.60.196 2 2020-04-03 17:34:17 superman (null) 1 3\n",
      "10.65.60.196 3 2020-04-03 17:34:14 1247 3.050000 45.689209 34.132351 1 17272 0 0\n",
      "10.65.60.196 3 2020-04-03 17:34:05 3 0.375000 40.423332 30.069838 1 4248 0 1\n"
     ]
    }
   ],
   "source": [
    "#方法1：启动定时器\n",
    "import threading\n",
    "timer = threading.Timer(1, fun_timer)\n",
    "i=0\n",
    "timer.start()"
   ]
  },
  {
   "cell_type": "code",
   "execution_count": 7,
   "metadata": {},
   "outputs": [],
   "source": [
    "#方法2：\n",
    "vup=VarUpdater(myvar)\n",
    "i=0\n",
    "vup.start()"
   ]
  },
  {
   "cell_type": "code",
   "execution_count": null,
   "metadata": {},
   "outputs": [],
   "source": [
    "server.stop()"
   ]
  }
 ],
 "metadata": {
  "kernelspec": {
   "display_name": "Python 3",
   "language": "python",
   "name": "python3"
  },
  "language_info": {
   "codemirror_mode": {
    "name": "ipython",
    "version": 3
   },
   "file_extension": ".py",
   "mimetype": "text/x-python",
   "name": "python",
   "nbconvert_exporter": "python",
   "pygments_lexer": "ipython3",
   "version": "3.7.6"
  }
 },
 "nbformat": 4,
 "nbformat_minor": 4
}
